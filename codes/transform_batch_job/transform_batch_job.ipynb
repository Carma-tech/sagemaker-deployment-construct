{
 "cells": [
  {
   "cell_type": "markdown",
   "metadata": {},
   "source": [
    "# SageMaker Transform Batch Job"
   ]
  },
  {
   "cell_type": "code",
   "execution_count": null,
   "metadata": {},
   "outputs": [],
   "source": [
    "import sagemaker\n",
    "from sagemaker import Session\n",
    "from sagemaker.model import Model\n",
    "import boto3\n",
    "\n",
    "# Define SageMaker session and client\n",
    "sagemaker_session = Session()\n",
    "sm_client = boto3.client(\"sagemaker\")\n",
    "\n",
    "# Existing SageMaker endpoint\n",
    "endpoint_name = \"TextClassificationMLDemo-TextClassification-Endpoint\"\n",
    "\n",
    "# Get model details from endpoint\n",
    "response = sm_client.describe_endpoint_config(EndpointConfigName=endpoint_name)\n",
    "model_name = response[\"ProductionVariants\"][0][\"ModelName\"]\n",
    "\n",
    "# Describe the model to get model data and container image\n",
    "model_details = sm_client.describe_model(ModelName=model_name)\n",
    "model_data = model_details[\"PrimaryContainer\"][\"ModelDataUrl\"]\n",
    "image_uri = model_details[\"PrimaryContainer\"][\"Image\"]\n",
    "\n",
    "# Define SageMaker Model\n",
    "model = Model(\n",
    "    model_data=model_data,\n",
    "    image_uri=image_uri,\n",
    "    role=sagemaker.get_execution_role(),\n",
    "    sagemaker_session=sagemaker_session\n",
    ")\n",
    "\n",
    "# Create a transformer for batch transform\n",
    "transformer = model.transformer(\n",
    "    instance_count=1,\n",
    "    instance_type='ml.m5.large',\n",
    "    output_path='s3://your-bucket-name/transform-output/',  # Change to your S3 bucket\n",
    "    strategy='SingleRecord',\n",
    "    assemble_with='Line',\n",
    "    accept='application/json'\n",
    ")\n",
    "\n",
    "# Perform batch transformation\n",
    "transformer.transform(\n",
    "    data='s3://your-bucket-name/transform-input/',  # Change to your input data S3 path\n",
    "    content_type='text/csv',\n",
    "    split_type='Line',\n",
    "    input_filter='$[0]',\n",
    "    output_filter='$[1]',\n",
    "    join_source='Input'\n",
    ")\n",
    "\n",
    "# Wait for transform job to complete\n",
    "transformer.wait()\n",
    "\n",
    "print(\"Batch transform job completed.\")\n"
   ]
  },
  {
   "cell_type": "code",
   "execution_count": null,
   "metadata": {},
   "outputs": [],
   "source": [
    "\"ModelDockerImage-Desc\": \"SageMaker Prebuilt Docker Images: https://github.com/aws/deep-learning-containers/blob/master/available_images.md\","
   ]
  }
 ],
 "metadata": {
  "kernelspec": {
   "display_name": "venv",
   "language": "python",
   "name": "python3"
  },
  "language_info": {
   "name": "python",
   "version": "3.12.7"
  }
 },
 "nbformat": 4,
 "nbformat_minor": 2
}
